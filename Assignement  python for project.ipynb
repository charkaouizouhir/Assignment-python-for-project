{
 "cells": [
  {
   "cell_type": "code",
   "execution_count": 26,
   "id": "a63272bd",
   "metadata": {},
   "outputs": [
    {
     "name": "stdout",
     "output_type": "stream",
     "text": [
      "TSLA: No data found for this date range, symbol may be delisted\n",
      "Empty DataFrame\n",
      "Columns: [Open, High, Low, Close, Adj Close, Volume]\n",
      "Index: []\n"
     ]
    }
   ],
   "source": [
    "import numpy as np\n",
    "import yfinance as yf\n",
    "\n",
    "tesla = yf.Ticker(\"TSLA\")\n",
    "tesla_data = tesla.history(period=\"max\")\n",
    "print(tesla_data.tail())\n"
   ]
  },
  {
   "cell_type": "code",
   "execution_count": 25,
   "id": "40ae5c2a",
   "metadata": {},
   "outputs": [
    {
     "name": "stdout",
     "output_type": "stream",
     "text": [
      "    Year  Revenue   Charge\n",
      "10  2013  $2.01 B  387.23%\n",
      "11  2012  $0.41 B  102.34%\n",
      "12  2011  $0.20 B   74.95%\n",
      "13  2010  $0.11 B    4.29%\n",
      "14  2009  $0.11 B         \n"
     ]
    }
   ],
   "source": [
    "import requests\n",
    "from bs4 import BeautifulSoup\n",
    "import pandas as pd\n",
    "\n",
    "url = \"https://companiesmarketcap.com/tesla/revenue/\"\n",
    "\n",
    "# Send a GET request to the URL\n",
    "response = requests.get(url)\n",
    "\n",
    "if response.status_code == 200:\n",
    "    soup = BeautifulSoup(response.content, 'html.parser')\n",
    "\n",
    "    table = soup.find(\"table\")\n",
    "\n",
    "    data_revenue = {\"Year\": [], \"Revenue\": [], \"Charge\": []}\n",
    "    \n",
    "    for row in table.find_all(\"tr\")[1:]:  \n",
    "        columns = row.find_all(\"td\")\n",
    "        year = columns[0].text.strip()\n",
    "        revenue = columns[1].text.strip()\n",
    "        charge = columns[2].text.strip()\n",
    "\n",
    "        data_revenue[\"Year\"].append(year)\n",
    "        data_revenue[\"Revenue\"].append(revenue)\n",
    "        data_revenue[\"Charge\"].append(charge)\n",
    "\n",
    "    df_revenue = pd.DataFrame(data_revenue)\n",
    "\n",
    "    print(df_revenue.tail())\n",
    "else:\n",
    "    print(f\"Failed to fetch data. Status code: {response.status_code}\")\n"
   ]
  },
  {
   "cell_type": "code",
   "execution_count": 27,
   "id": "bb11370d",
   "metadata": {},
   "outputs": [
    {
     "name": "stdout",
     "output_type": "stream",
     "text": [
      "GME: No data found for this date range, symbol may be delisted\n",
      "Empty DataFrame\n",
      "Columns: [Date, Open, High, Low, Close, Adj Close, Volume]\n",
      "Index: []\n"
     ]
    }
   ],
   "source": [
    "import yfinance as yf\n",
    "\n",
    "# Assuming you want GameStop (GME) stock data\n",
    "gme = yf.Ticker(\"GME\")\n",
    "\n",
    "# Fetch historical stock data\n",
    "gme_data = gme.history(period=\"max\")\n",
    "\n",
    "# Reset the index\n",
    "gme_data.reset_index(inplace=True)\n",
    "\n",
    "# Save the DataFrame to a file (e.g., CSV)\n",
    "gme_data.to_csv(\"gme_data.csv\", index=False)\n",
    "\n",
    "# Display the first five rows\n",
    "print(gme_data.head())\n"
   ]
  },
  {
   "cell_type": "code",
   "execution_count": 30,
   "id": "5ef58c48",
   "metadata": {},
   "outputs": [
    {
     "name": "stdout",
     "output_type": "stream",
     "text": [
      "    Year  Revenue   Charge\n",
      "17  2006  $4.68 B  119.43%\n",
      "18  2005  $2.13 B   21.27%\n",
      "19  2004  $1.75 B   19.38%\n",
      "20  2003  $1.47 B    9.45%\n",
      "21  2002  $1.34 B         \n"
     ]
    }
   ],
   "source": [
    "import requests\n",
    "from bs4 import BeautifulSoup\n",
    "import pandas as pd\n",
    "\n",
    "url = \"https://companiesmarketcap.com/gamestop/revenue/\"\n",
    "response=requests.get(url)\n",
    "if response.status_code == 200:\n",
    "    soup = BeautifulSoup(response.content, 'html.parser')\n",
    "\n",
    "    table = soup.find(\"table\")\n",
    "\n",
    "    data_revenue = {\"Year\": [], \"Revenue\": [], \"Charge\": []}\n",
    "    \n",
    "    for row in table.find_all(\"tr\")[1:]:  \n",
    "        columns = row.find_all(\"td\")\n",
    "        year = columns[0].text.strip()\n",
    "        revenue = columns[1].text.strip()\n",
    "        charge = columns[2].text.strip()\n",
    "\n",
    "        data_revenue[\"Year\"].append(year)\n",
    "        data_revenue[\"Revenue\"].append(revenue)\n",
    "        data_revenue[\"Charge\"].append(charge)\n",
    "\n",
    "    df_revenue = pd.DataFrame(data_revenue)\n",
    "\n",
    "    print(df_revenue.tail())\n",
    "else:\n",
    "    print(f\"Failed to fetch data. Status code: {response.status_code}\")\n"
   ]
  },
  {
   "cell_type": "code",
   "execution_count": 34,
   "id": "2897b4e3",
   "metadata": {},
   "outputs": [
    {
     "name": "stdout",
     "output_type": "stream",
     "text": [
      "TSLA: No data found for this date range, symbol may be delisted\n",
      "Failed to fetch revenue data. Status code: 404\n"
     ]
    },
    {
     "data": {
      "image/png": "[encoded data removed]",
      "text/plain": [
       "<Figure size 1000x600 with 1 Axes>"
      ]
     },
     "metadata": {},
     "output_type": "display_data"
    }
   ],
   "source": [
    "import yfinance as yf\n",
    "import requests\n",
    "from bs4 import BeautifulSoup\n",
    "import pandas as pd\n",
    "import matplotlib.pyplot as plt\n",
    "\n",
    "# Fetch Tesla stock data\n",
    "tesla_stock = yf.Ticker(\"TSLA\")\n",
    "stock_data = tesla_stock.history(period=\"max\")\n",
    "\n",
    "# Web scraping for revenue data (replace URL with the actual source)\n",
    "revenue_url = \"https://example.com/tesla/revenue\"\n",
    "revenue_response = requests.get(revenue_url)\n",
    "\n",
    "if revenue_response.status_code == 200:\n",
    "    soup = BeautifulSoup(revenue_response.content, 'html.parser')\n",
    "\n",
    "    table = soup.find(\"table\")\n",
    "\n",
    "    data_revenue = {\"Year\": [], \"Revenue\": [], \"Charge\": []}\n",
    "    \n",
    "    for row in table.find_all(\"tr\")[1:]:  \n",
    "        columns = row.find_all(\"td\")\n",
    "        year = columns[0].text.strip()\n",
    "        revenue = columns[1].text.strip()\n",
    "        charge = columns[2].text.strip()\n",
    "\n",
    "        data_revenue[\"Year\"].append(year)\n",
    "        data_revenue[\"Revenue\"].append(revenue)\n",
    "        data_revenue[\"Charge\"].append(charge)\n",
    "\n",
    "    df_revenue = pd.DataFrame(data_revenue)\n",
    "\n",
    "    print(df_revenue.tail())\n",
    "else:\n",
    "    print(f\"Failed to fetch revenue data. Status code: {revenue_response.status_code}\")\n",
    "\n",
    "# Plotting stock data\n",
    "plt.figure(figsize=(10, 6))\n",
    "plt.plot(stock_data['Close'], label='Closing Price')\n",
    "plt.title('Tesla Stock Price Over Time')\n",
    "plt.xlabel('Date')\n",
    "plt.ylabel('Stock Price (USD)')\n",
    "plt.legend()\n",
    "plt.show()\n"
   ]
  },
  {
   "cell_type": "code",
   "execution_count": 37,
   "id": "cfac3ecb",
   "metadata": {},
   "outputs": [
    {
     "name": "stdout",
     "output_type": "stream",
     "text": [
      "Collecting dash\n",
      "  Obtaining dependency information for dash from https://files.pythonhosted.org/packages/7b/62/438626ab498869249e99376684ba6d88931e7c2dd86d03a92d9d7a9b4c54/dash-2.14.2-py3-none-any.whl.metadata\n",
      "  Downloading dash-2.14.2-py3-none-any.whl.metadata (11 kB)\n",
      "Requirement already satisfied: Flask<3.1,>=1.0.4 in ./anaconda3/lib/python3.11/site-packages (from dash) (2.2.2)\n",
      "Requirement already satisfied: Werkzeug<3.1 in ./anaconda3/lib/python3.11/site-packages (from dash) (2.2.3)\n",
      "Requirement already satisfied: plotly>=5.0.0 in ./anaconda3/lib/python3.11/site-packages (from dash) (5.9.0)\n",
      "Collecting dash-html-components==2.0.0 (from dash)\n",
      "  Downloading dash_html_components-2.0.0-py3-none-any.whl (4.1 kB)\n",
      "Collecting dash-core-components==2.0.0 (from dash)\n",
      "  Downloading dash_core_components-2.0.0-py3-none-any.whl (3.8 kB)\n",
      "Collecting dash-table==5.0.0 (from dash)\n",
      "  Downloading dash_table-5.0.0-py3-none-any.whl (3.9 kB)\n",
      "Requirement already satisfied: typing-extensions>=4.1.1 in ./anaconda3/lib/python3.11/site-packages (from dash) (4.7.1)\n",
      "Requirement already satisfied: requests in ./anaconda3/lib/python3.11/site-packages (from dash) (2.31.0)\n",
      "Collecting retrying (from dash)\n",
      "  Downloading retrying-1.3.4-py3-none-any.whl (11 kB)\n",
      "Collecting ansi2html (from dash)\n",
      "  Obtaining dependency information for ansi2html from https://files.pythonhosted.org/packages/42/d7/1bc3433a2406b891182c25a7926abe3eb19af5870d540375ebf7795885b3/ansi2html-1.9.1-py3-none-any.whl.metadata\n",
      "  Downloading ansi2html-1.9.1-py3-none-any.whl.metadata (3.7 kB)\n",
      "Requirement already satisfied: nest-asyncio in ./anaconda3/lib/python3.11/site-packages (from dash) (1.5.6)\n",
      "Requirement already satisfied: setuptools in ./anaconda3/lib/python3.11/site-packages (from dash) (68.0.0)\n",
      "Requirement already satisfied: importlib-metadata in ./anaconda3/lib/python3.11/site-packages (from dash) (6.0.0)\n",
      "Requirement already satisfied: Jinja2>=3.0 in ./anaconda3/lib/python3.11/site-packages (from Flask<3.1,>=1.0.4->dash) (3.1.2)\n",
      "Requirement already satisfied: itsdangerous>=2.0 in ./anaconda3/lib/python3.11/site-packages (from Flask<3.1,>=1.0.4->dash) (2.0.1)\n",
      "Requirement already satisfied: click>=8.0 in ./anaconda3/lib/python3.11/site-packages (from Flask<3.1,>=1.0.4->dash) (8.0.4)\n",
      "Requirement already satisfied: tenacity>=6.2.0 in ./anaconda3/lib/python3.11/site-packages (from plotly>=5.0.0->dash) (8.2.2)\n",
      "Requirement already satisfied: MarkupSafe>=2.1.1 in ./anaconda3/lib/python3.11/site-packages (from Werkzeug<3.1->dash) (2.1.1)\n",
      "Requirement already satisfied: zipp>=0.5 in ./anaconda3/lib/python3.11/site-packages (from importlib-metadata->dash) (3.11.0)\n",
      "Requirement already satisfied: charset-normalizer<4,>=2 in ./anaconda3/lib/python3.11/site-packages (from requests->dash) (2.0.4)\n",
      "Requirement already satisfied: idna<4,>=2.5 in ./anaconda3/lib/python3.11/site-packages (from requests->dash) (3.4)\n",
      "Requirement already satisfied: urllib3<3,>=1.21.1 in ./anaconda3/lib/python3.11/site-packages (from requests->dash) (1.26.16)\n",
      "Requirement already satisfied: certifi>=2017.4.17 in ./anaconda3/lib/python3.11/site-packages (from requests->dash) (2023.7.22)\n",
      "Requirement already satisfied: six>=1.7.0 in ./anaconda3/lib/python3.11/site-packages (from retrying->dash) (1.16.0)\n",
      "Downloading dash-2.14.2-py3-none-any.whl (10.2 MB)\n",
      "\u001b[2K   \u001b[90m━━━━━━━━━━━━━━━━━━━━━━━━━━━━━━━━━━━━━━━━\u001b[0m \u001b[32m10.2/10.2 MB\u001b[0m \u001b[31m10.6 MB/s\u001b[0m eta \u001b[36m0:00:00\u001b[0m00:01\u001b[0m0:01\u001b[0m\n",
      "\u001b[?25hDownloading ansi2html-1.9.1-py3-none-any.whl (17 kB)\n",
      "Installing collected packages: dash-table, dash-html-components, dash-core-components, retrying, ansi2html, dash\n",
      "Successfully installed ansi2html-1.9.1 dash-2.14.2 dash-core-components-2.0.0 dash-html-components-2.0.0 dash-table-5.0.0 retrying-1.3.4\n"
     ]
    },
    {
     "name": "stderr",
     "output_type": "stream",
     "text": [
      "/var/folders/wc/6sw48zrd3s16h0vb5fdcyy7w0000gn/T/ipykernel_9743/16743742.py:8: UserWarning: \n",
      "The dash_core_components package is deprecated. Please replace\n",
      "`import dash_core_components as dcc` with `from dash import dcc`\n",
      "  import dash_core_components as dcc\n",
      "/var/folders/wc/6sw48zrd3s16h0vb5fdcyy7w0000gn/T/ipykernel_9743/16743742.py:9: UserWarning: \n",
      "The dash_html_components package is deprecated. Please replace\n",
      "`import dash_html_components as html` with `from dash import html`\n",
      "  import dash_html_components as html\n"
     ]
    },
    {
     "name": "stdout",
     "output_type": "stream",
     "text": [
      "GME: No data found for this date range, symbol may be delisted\n",
      "Failed to fetch revenue data. Status code: 404\n"
     ]
    },
    {
     "data": {
      "image/png": "[encoded data removed]",
      "text/plain": [
       "<Figure size 1000x600 with 1 Axes>"
      ]
     },
     "metadata": {},
     "output_type": "display_data"
    },
    {
     "data": {
      "text/html": [
       "\n",
       "        <iframe\n",
       "            width=\"100%\"\n",
       "            height=\"650\"\n",
       "            src=\"http://127.0.0.1:8050/\"\n",
       "            frameborder=\"0\"\n",
       "            allowfullscreen\n",
       "            \n",
       "        ></iframe>\n",
       "        "
      ],
      "text/plain": [
       "<IPython.lib.display.IFrame at 0x13f652990>"
      ]
     },
     "metadata": {},
     "output_type": "display_data"
    }
   ],
   "source": [
    "!pip install dash\n",
    "import yfinance as yf\n",
    "import requests\n",
    "from bs4 import BeautifulSoup\n",
    "import pandas as pd\n",
    "import matplotlib.pyplot as plt\n",
    "import dash\n",
    "import dash_core_components as dcc\n",
    "import dash_html_components as html\n",
    "\n",
    "# Fetch GameStop stock data\n",
    "gme_stock = yf.Ticker(\"GME\")\n",
    "stock_data = gme_stock.history(period=\"max\")\n",
    "\n",
    "# Web scraping for revenue data (replace URL with the actual source)\n",
    "revenue_url = \"https://example.com/gamestop/revenue\"\n",
    "revenue_response = requests.get(revenue_url)\n",
    "\n",
    "if revenue_response.status_code == 200:\n",
    "    soup = BeautifulSoup(revenue_response.content, 'html.parser')\n",
    "\n",
    "    table = soup.find(\"table\")\n",
    "\n",
    "    data_revenue = {\"Year\": [], \"Revenue\": [], \"Charge\": []}\n",
    "    \n",
    "    for row in table.find_all(\"tr\")[1:]:  \n",
    "        columns = row.find_all(\"td\")\n",
    "        year = columns[0].text.strip()\n",
    "        revenue = columns[1].text.strip()\n",
    "        charge = columns[2].text.strip()\n",
    "\n",
    "        data_revenue[\"Year\"].append(year)\n",
    "        data_revenue[\"Revenue\"].append(revenue)\n",
    "        data_revenue[\"Charge\"].append(charge)\n",
    "\n",
    "    df_revenue = pd.DataFrame(data_revenue)\n",
    "\n",
    "    print(df_revenue.tail())\n",
    "else:\n",
    "    print(f\"Failed to fetch revenue data. Status code: {revenue_response.status_code}\")\n",
    "\n",
    "# Plotting stock data\n",
    "plt.figure(figsize=(10, 6))\n",
    "plt.plot(stock_data['Close'], label='Closing Price')\n",
    "plt.title('GameStop Stock Price Over Time')\n",
    "plt.xlabel('Date')\n",
    "plt.ylabel('Stock Price (USD)')\n",
    "plt.legend()\n",
    "plt.show()\n",
    "\n",
    "# Create a Dash app for the dashboard\n",
    "app = dash.Dash(__name__)\n",
    "\n",
    "# Layout of the dashboard\n",
    "app.layout = html.Div(children=[\n",
    "    html.H1(children='GameStop Stock and Revenue Dashboard'),\n",
    "\n",
    "    dcc.Graph(\n",
    "        id='stock-chart',\n",
    "        figure={\n",
    "            'data': [\n",
    "                {'x': stock_data.index, 'y': stock_data['Close'], 'type': 'line', 'name': 'Closing Price'},\n",
    "            ],\n",
    "            'layout': {\n",
    "                'title': 'GameStop Stock Price Over Time',\n",
    "                'xaxis': {'title': 'Date'},\n",
    "                'yaxis': {'title': 'Stock Price (USD)'}\n",
    "            }\n",
    "        }\n",
    "    ),\n",
    "\n",
    "    html.Div(children=[\n",
    "        html.H2(children='GameStop Revenue Data'),\n",
    "        html.P(children=df_revenue.to_string(index=False))\n",
    "    ])\n",
    "])\n",
    "\n",
    "# Run the app\n",
    "if __name__ == '__main__':\n",
    "    app.run_server(debug=True)\n"
   ]
  },
  {
   "cell_type": "code",
   "execution_count": null,
   "id": "05c87f8f",
   "metadata": {},
   "outputs": [],
   "source": []
  }
 ],
 "metadata": {
  "kernelspec": {
   "display_name": "Python 3 (ipykernel)",
   "language": "python",
   "name": "python3"
  },
  "language_info": {
   "codemirror_mode": {
    "name": "ipython",
    "version": 3
   },
   "file_extension": ".py",
   "mimetype": "text/x-python",
   "name": "python",
   "nbconvert_exporter": "python",
   "pygments_lexer": "ipython3",
   "version": "3.11.5"
  }
 },
 "nbformat": 4,
 "nbformat_minor": 5
}
